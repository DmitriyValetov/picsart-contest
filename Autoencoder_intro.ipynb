{
  "cells": [
    {
      "metadata": {
        "trusted": true
      },
      "cell_type": "code",
      "source": "import numpy as np\nimport pandas as pd\n\nfrom keras.models import Model\nfrom keras.layers import Dense, Input\nfrom keras.datasets import mnist\n\nimport utils",
      "execution_count": 1,
      "outputs": [
        {
          "output_type": "stream",
          "text": "/home/nbuser/anaconda3_420/lib/python3.5/site-packages/h5py/__init__.py:36: FutureWarning: Conversion of the second argument of issubdtype from `float` to `np.floating` is deprecated. In future, it will be treated as `np.float64 == np.dtype(float).type`.\n  from ._conv import register_converters as _register_converters\nUsing TensorFlow backend.\n",
          "name": "stderr"
        }
      ]
    },
    {
      "metadata": {
        "trusted": true
      },
      "cell_type": "code",
      "source": "from PIL import Image  \n\ndef img2array(path):\n    img = Image.open(path).convert('F')\n    return np.array(img).ravel()",
      "execution_count": null,
      "outputs": []
    },
    {
      "metadata": {
        "trusted": true
      },
      "cell_type": "code",
      "source": "# Размер батча данных и количество эпох\nbatch_size = 8 #128\nnb_epoch = 10\nfiles_count = 100#1491",
      "execution_count": null,
      "outputs": []
    },
    {
      "metadata": {
        "trusted": true
      },
      "cell_type": "code",
      "source": "%%time\ntrain_path = 'data/train/{}.jpg'\ntrain_files = [train_path.format(x) for x in range(1,files_count+1)]\ntrain = np.array([img2array(path) for path in train_files])\nprint(train.shape)",
      "execution_count": null,
      "outputs": []
    },
    {
      "metadata": {
        "trusted": true
      },
      "cell_type": "code",
      "source": "%%time\ntrain_mask_path = 'data/train_mask/{}.png'\ntrain_mask_files = [train_mask_path.format(x) for x in range(1,files_count+1)]\ntrain_mask = np.array([img2array(path) for path in train_mask_files])\nprint(train_mask.shape)",
      "execution_count": null,
      "outputs": []
    },
    {
      "metadata": {
        "trusted": true
      },
      "cell_type": "code",
      "source": "%%time\ntest_path = 'data/test/{}.jpg'\ntest_files = [test_path.format(x) for x in range(1492,1492+100)]\ntest = np.array([img2array(path) for path in test_files])\nprint(test.shape)",
      "execution_count": null,
      "outputs": []
    },
    {
      "metadata": {
        "trusted": true
      },
      "cell_type": "code",
      "source": "x_train = train.astype('float32') / 255.\ny_train = train_mask.astype('float32') / 255.\nx_test = test.astype('float32') /255.",
      "execution_count": null,
      "outputs": []
    },
    {
      "metadata": {
        "trusted": true
      },
      "cell_type": "code",
      "source": "# Преобразуем картинки в вектора \nx_train = x_train.reshape((len(x_train), np.prod(x_train.shape[1:])))\ny_train = y_train.reshape((len(y_train), np.prod(y_train.shape[1:])))\nx_test = x_test.reshape((len(x_test), np.prod(x_test.shape[1:])))",
      "execution_count": null,
      "outputs": []
    },
    {
      "metadata": {
        "trusted": true
      },
      "cell_type": "code",
      "source": "print(x_train.shape, y_train.shape, x_test.shape)",
      "execution_count": null,
      "outputs": []
    },
    {
      "metadata": {
        "trusted": true
      },
      "cell_type": "code",
      "source": "# Соберем модель автоэнкодера\ninput_img = Input(shape=(x_train.shape[1],))\n\n# Размер скрытого слоя\nnb_hidden = 500\nencoded = Dense(nb_hidden, activation='relu')(input_img)\n\ndecoded = Dense(x_train.shape[1], activation='sigmoid')(encoded)\n\nautoencoder = Model(inputs=input_img, outputs=decoded)\nautoencoder.compile(optimizer='adadelta', loss='binary_crossentropy')\nautoencoder.summary()",
      "execution_count": null,
      "outputs": []
    },
    {
      "metadata": {
        "trusted": true
      },
      "cell_type": "code",
      "source": "autoencoder.fit(x_train, y_train,\n                epochs=nb_epoch, \n                batch_size=batch_size, \n                shuffle=True, \n                verbose=1)#,\n                #validation_data=(x_test_noisy, x_test))",
      "execution_count": null,
      "outputs": []
    },
    {
      "metadata": {
        "trusted": true
      },
      "cell_type": "code",
      "source": "# Decode test images \ndecoded_imgs = autoencoder.predict(x_test)",
      "execution_count": null,
      "outputs": []
    },
    {
      "metadata": {
        "trusted": true
      },
      "cell_type": "code",
      "source": "n = 10  # how many digits we will display\nplt.figure(figsize=(20, 6))\nfor i in range(n):\n    # display original\n    ax = plt.subplot(3, n, i + 1)\n    plt.imshow(x_train[i].reshape(320, 240))\n    plt.gray()\n    ax.get_xaxis().set_visible(False)\n    ax.get_yaxis().set_visible(False)\n    \n    # display original with noise\n    ax = plt.subplot(3, n, i + 1 + n)\n    plt.imshow(y_train[i].reshape(320, 240))\n    plt.gray()\n    ax.get_xaxis().set_visible(False)\n    ax.get_yaxis().set_visible(False)\n\n    # display reconstruction\n    ax = plt.subplot(3, n, i + 1 + 2*n)\n    plt.imshow(decoded_imgs[i].reshape(320, 240))\n    plt.gray()\n    ax.get_xaxis().set_visible(False)\n    ax.get_yaxis().set_visible(False)\nplt.show()",
      "execution_count": null,
      "outputs": []
    },
    {
      "metadata": {},
      "cell_type": "markdown",
      "source": "## На картинке:\n## 1 ряд - оригинальные изображения\n## 2 ряд - маски\n## 3 ряд - маски энкодера\n\n------"
    },
    {
      "metadata": {
        "trusted": true
      },
      "cell_type": "code",
      "source": "predictions = []\nfor dec_im in decoded_imgs:\n    predictions.append(dec_im[i].reshape(320, 240))\n    ",
      "execution_count": null,
      "outputs": []
    },
    {
      "metadata": {
        "trusted": true
      },
      "cell_type": "code",
      "source": "# save result\ndf = pd.DataFrame.from_dict({'image': path_images, 'rle_mask': predictions})\ndf.to_csv('baseline_submission.csv', index=False)",
      "execution_count": null,
      "outputs": []
    },
    {
      "metadata": {
        "trusted": true
      },
      "cell_type": "code",
      "source": "",
      "execution_count": null,
      "outputs": []
    }
  ],
  "metadata": {
    "kernelspec": {
      "name": "python3",
      "display_name": "Python 3",
      "language": "python"
    },
    "language_info": {
      "mimetype": "text/x-python",
      "nbconvert_exporter": "python",
      "name": "python",
      "file_extension": ".py",
      "version": "3.5.4",
      "pygments_lexer": "ipython3",
      "codemirror_mode": {
        "version": 3,
        "name": "ipython"
      }
    }
  },
  "nbformat": 4,
  "nbformat_minor": 2
}